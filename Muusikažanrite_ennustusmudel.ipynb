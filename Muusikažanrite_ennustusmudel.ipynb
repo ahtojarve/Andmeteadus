{
  "nbformat": 4,
  "nbformat_minor": 0,
  "metadata": {
    "colab": {
      "provenance": []
    },
    "kernelspec": {
      "name": "python3",
      "display_name": "Python 3"
    },
    "language_info": {
      "name": "python"
    }
  },
  "cells": [
    {
      "cell_type": "markdown",
      "source": [
        "## **AUDIO FAILIST MUUSIKAPALA ŽANRI ENNUSTAMINE**"
      ],
      "metadata": {
        "id": "0NvwwSyBj9dJ"
      }
    },
    {
      "cell_type": "markdown",
      "source": [
        "### **Ahto Järve, Meeli Mets**"
      ],
      "metadata": {
        "id": "VcpEFXe4t9Rk"
      }
    },
    {
      "cell_type": "markdown",
      "source": [
        "## SISSEJUHATUS, VIITED ja MÕISTED"
      ],
      "metadata": {
        "id": "IXLYi9PTlchN"
      }
    },
    {
      "cell_type": "markdown",
      "source": [
        "Projekti eesmärk on luua töövoog, mille abil saaks mp3 failist teada, mis žanri muusikaga tegu on. See võimaldab näiteks mingil platvormil kategoriseerida muusikat ilma, et sellel oleks metaandmetes tema žanr kirjas.\n"
      ],
      "metadata": {
        "id": "kxiN7uCpoNNz"
      }
    },
    {
      "cell_type": "markdown",
      "source": [
        "\n",
        "\n",
        "**Music Audio Benchmark Data Set:** https://www-ai.cs.tu-dortmund.de/audio.html\n",
        "Siit leheküljelt laadisime alla mudeli treenimiseks ja testimiseks kasutatud mp3 failid. Need lood olid 10 sekundi pikkused väljavõtted lauludest. Nad olid kategoriseeritud kataloogidesse žanrite kaupa. Kokku laadisime alla 1884 faili. Lood on võetud garageband.com -ist ning need lood ei ole ühiskonnas tuntud."
      ],
      "metadata": {
        "id": "WEl8nkoa_R_B"
      }
    },
    {
      "cell_type": "markdown",
      "source": [
        "**Tööriist, millega muusikafailidest kätte saada audio tunnused:** https://essentia.upf.edu/streaming_extractor_music.html\n",
        "Selgus, et audiofaile on kirjeldatud ligi 60 erineva tunnuse kaudu. Lisasime iga uue katse puhul mõned tunnused juurde, kuid jõudluse mõttes jäime 14 tunnuse juurde.\n",
        "\n"
      ],
      "metadata": {
        "id": "YTKCSMHq4lGr"
      }
    },
    {
      "cell_type": "markdown",
      "source": [
        "\n",
        "**Audio tunnused, mida ennustusmudelis kasutasime:**\n",
        "\n",
        "**average_loudness**: annab ülevaate muusikapala üldisest helitugevusest. See skaleerib keskmise helitugevuse ümber normaliseeritud vahemikku [0, 1], mis tähistab dünaamilist vahemikku. See võib olla abiks muusika tajutava helitugevuse ja intensiivsuse mõistmisel.\n",
        "\n",
        "**BPM (Beats Per Minute) ehk tempo**: näitab muusika tempot või kiirust, näidates löökide arvu ühes minutis. Erinevatel žanritel on tavaliselt erinevad harmoonilised omadused, näiteks teatud helikõrgusklasside või tonaalsuste esiletõstmine.\n",
        "\n",
        "**energy**: peegeldab muusika tajutavat intensiivsust ja aktiivsuse taset. Kõrgemad väärtused näitavad energilisemat muusikat. Näiteks rokkmuusikas võib olla kõrgem energiatase, samas kui ambient-muusika võib olla madalama energiatasemega. Ühik: vahemikus 0 kuni 1.\n",
        "\n",
        "**beats_loudness**: näitab muusika löökide valjusust. Ühik vahemikus 0 kuni 1.\n",
        "\n",
        "**silence_rate_60dB**: mõõdab vaiksete või madala helitugevusega segmentide osakaalu muusikas. See näitab vaikse taset või heli puudumist. Ühik: vahemikus 0 kuni 1.\n",
        "\n",
        "**danceability**: hindab erinevate muusikaliste elementide põhjal muusika sobivuse tantsimiseks. Kõrgemad väärtused näitavad tantsulisemat muusikat. Ühik: vahemikus 0 kuni 1.\n",
        "\n",
        "**chords_changes_rate**: akordide muutumise kiirust muusikas, mis näitab harmoonilist keerukust või edenemist. Akordide muutuste kiirus võib eristada erinevaid muusikažanre, kuna erinevatel žanritel on erinevad harmoonilised struktuurid. Näiteks džässmuusikas võib olla rohkem akordimuutusi, samas kui popmuusikas võib olla rohkem kordusi. Ühik: akordivahetuste arv sekundis.\n",
        "\n",
        "**melbands_spread**: annab teavet tooniomaduste või helikõrguse variatsiooni kohta. See omadus annab aimu muusika meloodilisest ulatusest või variatsioonist. Mõned žanrid, nagu klassikaline või džäss, võivad sisaldada laiemat meloodilist spektrit, samas kui teised žanrid, nagu techno või elektrooniline muusika, võivad olla kitsama meloodilise levikuga.\n",
        "\n",
        "**hpcp_entropy**: mõõdab muusika harmoonilise helikõrguse klassi profiili (HPCP) entroopiat või ettearvamatust. See näitab harmoonilise sisu mitmekesisust või keerukust.\n",
        "\n",
        "**barkbands_crest**: kirjeldab muusikas esinevate kooreribade hariteguri. See tähistab piigi amplituudi ja keskmise amplituudi suhet igas kooreribas.\n",
        "\n",
        "**dissonants**: kirjeldab tajutavat dissonantsi või harmoonia puudumist muusikas. Kõrgemad väärtused näitavad dissonantsemat muusikat.\n",
        "\n",
        "**bpm_histogram_first_peak_weight**: annab teavet muusika esmase tempo või rütmi kohta.\n",
        "\n",
        "**zerocrossingrate**: mõõdab kiirust, millega heli lainekuju ületab amplituudi nulltaseme. See peegeldab helisignaali muutuste või üleminekute taset.\n",
        "\n",
        "**spectral_entropy**: kirjeldab muusika spektraalse sisu entroopiat või ettearvamatust. See näitab sageduskomponentide mitmekesisust või keerukust.\n"
      ],
      "metadata": {
        "id": "WD20nDln_-ZS"
      }
    },
    {
      "cell_type": "markdown",
      "source": [
        "## ANDMETE ETTEVALMISTUS JA PUHASTAMINE"
      ],
      "metadata": {
        "id": "hjShMDYTlll0"
      }
    },
    {
      "cell_type": "markdown",
      "source": [
        "Skript, mis extractib mp3 failist tunnused. Skript on tehtud, et ükshaaval ei peaks faile tööriistast läbi laskma. Skriptis tuleb folder_path muuta selleks teeks, kus kaustas mp3 failid asuvad. Skript tuleb salvestada enda arvutisse .py laiendina ning käima panna command promptis. Skript laseb kõik mp3 failid, mis kaustas on üksteise järel streaming_extractor_music tööriistast läbi. Tööriist peab asuma samas kaustas, kus asub skript.\n",
        "Skript tekitab iga mp3 faili kohta sama nimega txt faili, kus sees on json formaadis andmed"
      ],
      "metadata": {
        "id": "allCygSNIQDG"
      }
    },
    {
      "cell_type": "code",
      "source": [
        "#DON'T run in google colab\n",
        "import os\n",
        "import subprocess\n",
        "\n",
        "# Folder path containing the songs\n",
        "#Change the path according\n",
        "folder_path = r\"C:\\MUUSIKA_EXTRACT\\alternative\"\n",
        "\n",
        "# Get a list of filenames in the folder\n",
        "song_list = os.listdir(folder_path)\n",
        "\n",
        "# Filter out non-MP3 files\n",
        "song_list = [filename for filename in song_list if filename.endswith(\".mp3\")]\n",
        "\n",
        "# Loop through the song list\n",
        "for song in song_list:\n",
        "    song_path = os.path.join(folder_path, song)\n",
        "    output_filename = os.path.splitext(song)[0] + \".txt\"\n",
        "    output_path = os.path.join(folder_path, output_filename)\n",
        "\n",
        "    command = f\".\\\\streaming_extractor_music.exe {song_path} {output_path}\"\n",
        "\n",
        "    # Run the command\n",
        "    subprocess.run(command, shell=True)\n",
        "\n",
        "    print(f\"Processed {song} and saved output to {output_filename}\")\n"
      ],
      "metadata": {
        "id": "47jebdmjIm8C"
      },
      "execution_count": null,
      "outputs": []
    },
    {
      "cell_type": "markdown",
      "source": [
        "Skript mis võtab saadud tekstifailist meile vajalikud tunnused ning lisab genre tunnuse (allalaetud failid on žanriga nimetatud kaustas). Skript kogub andmed kõigist määratud kaustas olevatest tekstifailidest. Iga žanri kohta peab olema eraldi kaust ja iga kausta kohta tuleb skript uuesti käivitada"
      ],
      "metadata": {
        "id": "pgFwWrIHOVuO"
      }
    },
    {
      "cell_type": "code",
      "source": [
        "#DON'T run this in colab\n",
        "import json\n",
        "import csv\n",
        "import os\n",
        "\n",
        "# Folder path containing the songs, change this according to folder\n",
        "folder_path = r\"C:\\MUUSIKA_EXTRACT\\rock\"\n",
        "\n",
        "# Get a list of filenames in the folder\n",
        "json_list = os.listdir(folder_path)\n",
        "\n",
        "# Filter out non-txt files\n",
        "json_list = [filename for filename in json_list if filename.endswith(\".txt\")]\n",
        "\n",
        "# Prepare the data list\n",
        "table_data = []\n",
        "\n",
        "# Loop through the JSON files\n",
        "for file_name in json_list:\n",
        "    file_path = os.path.join(folder_path, file_name)\n",
        "    with open(file_path) as file:\n",
        "        # Open the JSON file\n",
        "        json_data = json.load(file)\n",
        "\n",
        "    # Extract the required information\n",
        "    song_name = os.path.splitext(os.path.basename(file_name))[0]\n",
        "    average_loudness = json_data['lowlevel']['average_loudness']\n",
        "    bpm = json_data['rhythm']['bpm']\n",
        "    energy = json_data['lowlevel']['spectral_energy']['mean']\n",
        "    genre = os.path.basename(folder_path)\n",
        "    beats_loudness = json_data['rhythm']['beats_loudness']['mean']\n",
        "    silence_rate_60dB = json_data['lowlevel']['silence_rate_60dB']['mean']\n",
        "    danceability = json_data['rhythm']['danceability']\n",
        "    chords_changes_rate = json_data['tonal']['chords_changes_rate']\n",
        "    melbands_spread = json_data['lowlevel']['melbands_spread']['mean']\n",
        "    hpcp_entropy = json_data['tonal']['hpcp_entropy']['mean']\n",
        "    barkbands_crest = json_data['lowlevel']['barkbands_crest']['mean']\n",
        "    dissonance = json_data['lowlevel']['dissonance']['mean']\n",
        "    bpm_histogram_first_peak_weight = json_data['rhythm']['bpm_histogram_first_peak_weight']['mean']\n",
        "    zerocrossingrate = json_data['lowlevel']['zerocrossingrate']['mean']\n",
        "    spectral_entropy = json_data['lowlevel']['spectral_entropy']['mean']\n",
        "\n",
        "    # Add the extracted information to the data list\n",
        "    table_data.append((song_name, average_loudness, bpm, energy, genre, beats_loudness, silence_rate_60dB, danceability,\n",
        "    chords_changes_rate, melbands_spread, hpcp_entropy, barkbands_crest, dissonance, bpm_histogram_first_peak_weight,\n",
        "    zerocrossingrate, spectral_entropy))\n",
        "\n",
        "# Write the data to a CSV file\n",
        "csv_file_path = r\"C:\\MUUSIKA_EXTRACT\\muusika_andmed_3.csv\" #change this according to the name you want the table to be in\n",
        "with open(csv_file_path, 'a', newline='') as file:\n",
        "    writer = csv.writer(file)\n",
        "    #remove comments belove if you are running the script for the first time\n",
        "    #writer.writerow(['song_name', 'average_loudness', 'BPM', 'energy', 'genre', 'beats_loudness', 'silence_rate_60dB',\n",
        "    #'danceability', 'chords_changes_rate', 'melbands_spread', 'hpcp_entropy', 'barkbands_crest', 'dissonance',\n",
        "    #'bpm_histogram_first_peak_weight', 'zerocrossingrate', 'spectral_entropy'])\n",
        "    writer.writerows(table_data)\n"
      ],
      "metadata": {
        "id": "NuPVy8tBOm5b"
      },
      "execution_count": null,
      "outputs": []
    },
    {
      "cell_type": "markdown",
      "source": [
        "Skripte kasutades saadud tabel on lingil\n",
        "https://drive.google.com/file/d/1KT1wqOKJSs-P06GCNPwn12SMLhOqcoZV/view?usp=sharing\n",
        "Et järgnevad koodiblokid töötaksid on vaja fail laadida antud vihikusse üles\n"
      ],
      "metadata": {
        "id": "9oEXNj8RoyDl"
      }
    },
    {
      "cell_type": "code",
      "source": [
        "import pandas as pd\n",
        "from sklearn.ensemble import RandomForestClassifier\n",
        "from sklearn.model_selection import train_test_split\n",
        "from sklearn.metrics import accuracy_score, precision_score, recall_score, f1_score\n",
        "data = pd.read_csv('muusika_andmed_3.csv')"
      ],
      "metadata": {
        "id": "41g6_X7Q7g-o"
      },
      "execution_count": null,
      "outputs": []
    },
    {
      "cell_type": "code",
      "source": [
        "data.head()"
      ],
      "metadata": {
        "colab": {
          "base_uri": "https://localhost:8080/",
          "height": 357
        },
        "id": "QCAGVndA7vVk",
        "outputId": "5c4a01f6-9b59-416b-d265-38dac0fa93fa"
      },
      "execution_count": null,
      "outputs": [
        {
          "output_type": "execute_result",
          "data": {
            "text/plain": [
              "                        song_name  average_loudness         BPM    energy  \\\n",
              "0              50_Minutes-Colours          0.980028   75.861862  0.066307   \n",
              "1            50_Minutes-Nightwalk          0.945626  102.809204  0.038952   \n",
              "2       50_Minutes-The_Great_Wall          0.941274  131.640213  0.060525   \n",
              "3  Abigail_Lapell-Dress_Rehearsal          0.938891  133.088760  0.018110   \n",
              "4        Albino_Catfish-Ice_Cream          0.960169  132.553040  0.016811   \n",
              "\n",
              "         genre  beats_loudness  silence_rate_60dB  danceability  \\\n",
              "0  alternative        0.104170           0.006897      1.301411   \n",
              "1  alternative        0.053597           0.006897      1.071107   \n",
              "2  alternative        0.080538           0.006897      1.620873   \n",
              "3  alternative        0.029659           0.236782      1.103886   \n",
              "4  alternative        0.023732           0.087356      1.222415   \n",
              "\n",
              "   chords_changes_rate  melbands_spread  hpcp_entropy  barkbands_crest  \\\n",
              "0             0.032110         7.230572      1.775896        12.639479   \n",
              "1             0.013761         5.282569      1.478058        10.795516   \n",
              "2             0.027523         8.779939      1.638700        11.416750   \n",
              "3             0.091743        14.187970      1.829076        12.260461   \n",
              "4             0.027523        38.337582      1.516412        10.057476   \n",
              "\n",
              "   dissonance  bpm_histogram_first_peak_weight  zerocrossingrate  \\\n",
              "0    0.429363                         0.666667          0.023295   \n",
              "1    0.392693                         0.400000          0.018564   \n",
              "2    0.453450                         0.450000          0.025186   \n",
              "3    0.431474                         0.250000          0.046012   \n",
              "4    0.449736                         0.450000          0.076266   \n",
              "\n",
              "   spectral_entropy  \n",
              "0          6.812339  \n",
              "1          5.995567  \n",
              "2          6.878036  \n",
              "3          6.898564  \n",
              "4          6.992670  "
            ],
            "text/html": [
              "\n",
              "  <div id=\"df-465ba505-7147-4f72-925c-5cd0dc6ebf26\">\n",
              "    <div class=\"colab-df-container\">\n",
              "      <div>\n",
              "<style scoped>\n",
              "    .dataframe tbody tr th:only-of-type {\n",
              "        vertical-align: middle;\n",
              "    }\n",
              "\n",
              "    .dataframe tbody tr th {\n",
              "        vertical-align: top;\n",
              "    }\n",
              "\n",
              "    .dataframe thead th {\n",
              "        text-align: right;\n",
              "    }\n",
              "</style>\n",
              "<table border=\"1\" class=\"dataframe\">\n",
              "  <thead>\n",
              "    <tr style=\"text-align: right;\">\n",
              "      <th></th>\n",
              "      <th>song_name</th>\n",
              "      <th>average_loudness</th>\n",
              "      <th>BPM</th>\n",
              "      <th>energy</th>\n",
              "      <th>genre</th>\n",
              "      <th>beats_loudness</th>\n",
              "      <th>silence_rate_60dB</th>\n",
              "      <th>danceability</th>\n",
              "      <th>chords_changes_rate</th>\n",
              "      <th>melbands_spread</th>\n",
              "      <th>hpcp_entropy</th>\n",
              "      <th>barkbands_crest</th>\n",
              "      <th>dissonance</th>\n",
              "      <th>bpm_histogram_first_peak_weight</th>\n",
              "      <th>zerocrossingrate</th>\n",
              "      <th>spectral_entropy</th>\n",
              "    </tr>\n",
              "  </thead>\n",
              "  <tbody>\n",
              "    <tr>\n",
              "      <th>0</th>\n",
              "      <td>50_Minutes-Colours</td>\n",
              "      <td>0.980028</td>\n",
              "      <td>75.861862</td>\n",
              "      <td>0.066307</td>\n",
              "      <td>alternative</td>\n",
              "      <td>0.104170</td>\n",
              "      <td>0.006897</td>\n",
              "      <td>1.301411</td>\n",
              "      <td>0.032110</td>\n",
              "      <td>7.230572</td>\n",
              "      <td>1.775896</td>\n",
              "      <td>12.639479</td>\n",
              "      <td>0.429363</td>\n",
              "      <td>0.666667</td>\n",
              "      <td>0.023295</td>\n",
              "      <td>6.812339</td>\n",
              "    </tr>\n",
              "    <tr>\n",
              "      <th>1</th>\n",
              "      <td>50_Minutes-Nightwalk</td>\n",
              "      <td>0.945626</td>\n",
              "      <td>102.809204</td>\n",
              "      <td>0.038952</td>\n",
              "      <td>alternative</td>\n",
              "      <td>0.053597</td>\n",
              "      <td>0.006897</td>\n",
              "      <td>1.071107</td>\n",
              "      <td>0.013761</td>\n",
              "      <td>5.282569</td>\n",
              "      <td>1.478058</td>\n",
              "      <td>10.795516</td>\n",
              "      <td>0.392693</td>\n",
              "      <td>0.400000</td>\n",
              "      <td>0.018564</td>\n",
              "      <td>5.995567</td>\n",
              "    </tr>\n",
              "    <tr>\n",
              "      <th>2</th>\n",
              "      <td>50_Minutes-The_Great_Wall</td>\n",
              "      <td>0.941274</td>\n",
              "      <td>131.640213</td>\n",
              "      <td>0.060525</td>\n",
              "      <td>alternative</td>\n",
              "      <td>0.080538</td>\n",
              "      <td>0.006897</td>\n",
              "      <td>1.620873</td>\n",
              "      <td>0.027523</td>\n",
              "      <td>8.779939</td>\n",
              "      <td>1.638700</td>\n",
              "      <td>11.416750</td>\n",
              "      <td>0.453450</td>\n",
              "      <td>0.450000</td>\n",
              "      <td>0.025186</td>\n",
              "      <td>6.878036</td>\n",
              "    </tr>\n",
              "    <tr>\n",
              "      <th>3</th>\n",
              "      <td>Abigail_Lapell-Dress_Rehearsal</td>\n",
              "      <td>0.938891</td>\n",
              "      <td>133.088760</td>\n",
              "      <td>0.018110</td>\n",
              "      <td>alternative</td>\n",
              "      <td>0.029659</td>\n",
              "      <td>0.236782</td>\n",
              "      <td>1.103886</td>\n",
              "      <td>0.091743</td>\n",
              "      <td>14.187970</td>\n",
              "      <td>1.829076</td>\n",
              "      <td>12.260461</td>\n",
              "      <td>0.431474</td>\n",
              "      <td>0.250000</td>\n",
              "      <td>0.046012</td>\n",
              "      <td>6.898564</td>\n",
              "    </tr>\n",
              "    <tr>\n",
              "      <th>4</th>\n",
              "      <td>Albino_Catfish-Ice_Cream</td>\n",
              "      <td>0.960169</td>\n",
              "      <td>132.553040</td>\n",
              "      <td>0.016811</td>\n",
              "      <td>alternative</td>\n",
              "      <td>0.023732</td>\n",
              "      <td>0.087356</td>\n",
              "      <td>1.222415</td>\n",
              "      <td>0.027523</td>\n",
              "      <td>38.337582</td>\n",
              "      <td>1.516412</td>\n",
              "      <td>10.057476</td>\n",
              "      <td>0.449736</td>\n",
              "      <td>0.450000</td>\n",
              "      <td>0.076266</td>\n",
              "      <td>6.992670</td>\n",
              "    </tr>\n",
              "  </tbody>\n",
              "</table>\n",
              "</div>\n",
              "      <button class=\"colab-df-convert\" onclick=\"convertToInteractive('df-465ba505-7147-4f72-925c-5cd0dc6ebf26')\"\n",
              "              title=\"Convert this dataframe to an interactive table.\"\n",
              "              style=\"display:none;\">\n",
              "        \n",
              "  <svg xmlns=\"http://www.w3.org/2000/svg\" height=\"24px\"viewBox=\"0 0 24 24\"\n",
              "       width=\"24px\">\n",
              "    <path d=\"M0 0h24v24H0V0z\" fill=\"none\"/>\n",
              "    <path d=\"M18.56 5.44l.94 2.06.94-2.06 2.06-.94-2.06-.94-.94-2.06-.94 2.06-2.06.94zm-11 1L8.5 8.5l.94-2.06 2.06-.94-2.06-.94L8.5 2.5l-.94 2.06-2.06.94zm10 10l.94 2.06.94-2.06 2.06-.94-2.06-.94-.94-2.06-.94 2.06-2.06.94z\"/><path d=\"M17.41 7.96l-1.37-1.37c-.4-.4-.92-.59-1.43-.59-.52 0-1.04.2-1.43.59L10.3 9.45l-7.72 7.72c-.78.78-.78 2.05 0 2.83L4 21.41c.39.39.9.59 1.41.59.51 0 1.02-.2 1.41-.59l7.78-7.78 2.81-2.81c.8-.78.8-2.07 0-2.86zM5.41 20L4 18.59l7.72-7.72 1.47 1.35L5.41 20z\"/>\n",
              "  </svg>\n",
              "      </button>\n",
              "      \n",
              "  <style>\n",
              "    .colab-df-container {\n",
              "      display:flex;\n",
              "      flex-wrap:wrap;\n",
              "      gap: 12px;\n",
              "    }\n",
              "\n",
              "    .colab-df-convert {\n",
              "      background-color: #E8F0FE;\n",
              "      border: none;\n",
              "      border-radius: 50%;\n",
              "      cursor: pointer;\n",
              "      display: none;\n",
              "      fill: #1967D2;\n",
              "      height: 32px;\n",
              "      padding: 0 0 0 0;\n",
              "      width: 32px;\n",
              "    }\n",
              "\n",
              "    .colab-df-convert:hover {\n",
              "      background-color: #E2EBFA;\n",
              "      box-shadow: 0px 1px 2px rgba(60, 64, 67, 0.3), 0px 1px 3px 1px rgba(60, 64, 67, 0.15);\n",
              "      fill: #174EA6;\n",
              "    }\n",
              "\n",
              "    [theme=dark] .colab-df-convert {\n",
              "      background-color: #3B4455;\n",
              "      fill: #D2E3FC;\n",
              "    }\n",
              "\n",
              "    [theme=dark] .colab-df-convert:hover {\n",
              "      background-color: #434B5C;\n",
              "      box-shadow: 0px 1px 3px 1px rgba(0, 0, 0, 0.15);\n",
              "      filter: drop-shadow(0px 1px 2px rgba(0, 0, 0, 0.3));\n",
              "      fill: #FFFFFF;\n",
              "    }\n",
              "  </style>\n",
              "\n",
              "      <script>\n",
              "        const buttonEl =\n",
              "          document.querySelector('#df-465ba505-7147-4f72-925c-5cd0dc6ebf26 button.colab-df-convert');\n",
              "        buttonEl.style.display =\n",
              "          google.colab.kernel.accessAllowed ? 'block' : 'none';\n",
              "\n",
              "        async function convertToInteractive(key) {\n",
              "          const element = document.querySelector('#df-465ba505-7147-4f72-925c-5cd0dc6ebf26');\n",
              "          const dataTable =\n",
              "            await google.colab.kernel.invokeFunction('convertToInteractive',\n",
              "                                                     [key], {});\n",
              "          if (!dataTable) return;\n",
              "\n",
              "          const docLinkHtml = 'Like what you see? Visit the ' +\n",
              "            '<a target=\"_blank\" href=https://colab.research.google.com/notebooks/data_table.ipynb>data table notebook</a>'\n",
              "            + ' to learn more about interactive tables.';\n",
              "          element.innerHTML = '';\n",
              "          dataTable['output_type'] = 'display_data';\n",
              "          await google.colab.output.renderOutput(dataTable, element);\n",
              "          const docLink = document.createElement('div');\n",
              "          docLink.innerHTML = docLinkHtml;\n",
              "          element.appendChild(docLink);\n",
              "        }\n",
              "      </script>\n",
              "    </div>\n",
              "  </div>\n",
              "  "
            ]
          },
          "metadata": {},
          "execution_count": 2
        }
      ]
    },
    {
      "cell_type": "code",
      "source": [
        "# Check if there are any missing values in the DataFrame\n",
        "has_missing_values = data.isnull().any().any()\n",
        "print(has_missing_values)"
      ],
      "metadata": {
        "colab": {
          "base_uri": "https://localhost:8080/"
        },
        "id": "T-Xx-JA777kL",
        "outputId": "55524a9c-ce04-4bdd-a87d-07db7dc39590"
      },
      "execution_count": null,
      "outputs": [
        {
          "output_type": "stream",
          "name": "stdout",
          "text": [
            "False\n"
          ]
        }
      ]
    },
    {
      "cell_type": "markdown",
      "source": [
        "## ANDMETE KIRJELDAMINE, VISUALISEERIMINE"
      ],
      "metadata": {
        "id": "OOrKdJq7oO_3"
      }
    },
    {
      "cell_type": "markdown",
      "source": [
        "average_loudness"
      ],
      "metadata": {
        "id": "_sOc-SCu_lIf"
      }
    },
    {
      "cell_type": "code",
      "source": [
        "import matplotlib.pyplot as plt\n",
        "\n",
        "# Read the CSV file\n",
        "df = pd.read_csv('muusika_andmed_3.csv')\n",
        "\n",
        "# Extract the relevant columns\n",
        "data1 = df[['average_loudness', 'genre']]\n",
        "\n",
        "# Set the color for all scatter points to black\n",
        "color = 'black'\n",
        "\n",
        "# Plot the scatter points\n",
        "plt.figure(figsize=(6, 6))  # Adjust the figure size\n",
        "plt.scatter(data1['genre'], data['average_loudness'], color=color)\n",
        "\n",
        "# Set the axis labels and title\n",
        "plt.xlabel('Music Genre')\n",
        "plt.ylabel('Average Loudness')\n",
        "plt.title('Scatter Plot of Average Loudness by Music Genre')\n",
        "\n",
        "# Invert the y-axis\n",
        "plt.gca().invert_yaxis()\n",
        "\n",
        "# Rotate the x-axis labels\n",
        "plt.xticks(rotation=45)\n",
        "\n",
        "# Show the plot\n",
        "plt.tight_layout()  # Optional: Adjust the layout to prevent overlapping labels\n",
        "plt.show()"
      ],
      "metadata": {
        "colab": {
          "base_uri": "https://localhost:8080/",
          "height": 607
        },
        "id": "XHtuvk4K_T1k",
        "outputId": "b9fdc9a9-2b8d-41e9-c1fb-1ad1c5aebda6"
      },
      "execution_count": null,
      "outputs": [
        {
          "output_type": "display_data",
          "data": {
            "text/plain": [
              "<Figure size 600x600 with 1 Axes>"
            ],
            "image/png": "[encoded data removed]"
          },
          "metadata": {}
        }
      ]
    },
    {
      "cell_type": "markdown",
      "source": [
        "danceability"
      ],
      "metadata": {
        "id": "P-CIgUW_DS5S"
      }
    },
    {
      "cell_type": "code",
      "source": [
        "# Extract the relevant columns\n",
        "data2 = df[['danceability', 'genre']]\n",
        "\n",
        "# Create a dictionary to store the BPM values for each genre\n",
        "bpm_data = {}\n",
        "\n",
        "# Iterate over each genre and collect the corresponding BPM values\n",
        "for genre in data2['genre'].unique():\n",
        "    bpm_data[genre] = data2[data['genre'] == genre]['danceability']\n",
        "\n",
        "# Convert the dictionary to a list of values\n",
        "bpm_values = list(bpm_data.values())\n",
        "\n",
        "# Create a list of genre labels\n",
        "genre_labels = list(bpm_data.keys())\n",
        "\n",
        "# Plot the box plot\n",
        "plt.boxplot(bpm_values, labels=genre_labels)\n",
        "\n",
        "# Set the axis labels and title\n",
        "plt.xlabel('Music Genre')\n",
        "plt.ylabel('Danceability')\n",
        "plt.title('Box Plot of Danceability by Music Genre')\n",
        "\n",
        "# Rotate the x-axis labels\n",
        "plt.xticks(rotation=45)\n",
        "\n",
        "\n",
        "# Show the plot\n",
        "plt.show()"
      ],
      "metadata": {
        "colab": {
          "base_uri": "https://localhost:8080/",
          "height": 526
        },
        "id": "OYU3hoV0DRUu",
        "outputId": "dc6999ff-3776-46bc-d257-02f70b08f481"
      },
      "execution_count": null,
      "outputs": [
        {
          "output_type": "display_data",
          "data": {
            "text/plain": [
              "<Figure size 640x480 with 1 Axes>"
            ],
            "image/png": "[encoded data removed]"
          },
          "metadata": {}
        }
      ]
    },
    {
      "cell_type": "markdown",
      "source": [
        "spectral_entropy"
      ],
      "metadata": {
        "id": "h0bUm2Mr92NF"
      }
    },
    {
      "cell_type": "code",
      "source": [
        "# Extract the relevant columns\n",
        "data3 = df[['spectral_entropy', 'genre']]\n",
        "\n",
        "# Create a dictionary to store the BPM values for each genre\n",
        "bpm_data = {}\n",
        "\n",
        "# Iterate over each genre and collect the corresponding BPM values\n",
        "for genre in data3['genre'].unique():\n",
        "    bpm_data[genre] = data3[data['genre'] == genre]['spectral_entropy']\n",
        "\n",
        "# Convert the dictionary to a list of values\n",
        "bpm_values = list(bpm_data.values())\n",
        "\n",
        "# Create a list of genre labels\n",
        "genre_labels = list(bpm_data.keys())\n",
        "\n",
        "# Plot the box plot\n",
        "plt.boxplot(bpm_values, labels=genre_labels)\n",
        "\n",
        "# Set the axis labels and title\n",
        "plt.xlabel('Music Genre')\n",
        "plt.ylabel('Spectral entropy')\n",
        "plt.title('Box Plot of Spectral entropy by Music Genre')\n",
        "\n",
        "# Rotate the x-axis labels\n",
        "plt.xticks(rotation=45)\n",
        "\n",
        "\n",
        "# Show the plot\n",
        "plt.show()"
      ],
      "metadata": {
        "colab": {
          "base_uri": "https://localhost:8080/",
          "height": 526
        },
        "id": "ib3_J7aR98i7",
        "outputId": "99aa8312-5265-4b97-cb25-0ff412335670"
      },
      "execution_count": null,
      "outputs": [
        {
          "output_type": "display_data",
          "data": {
            "text/plain": [
              "<Figure size 640x480 with 1 Axes>"
            ],
            "image/png": "[encoded data removed]"
          },
          "metadata": {}
        }
      ]
    },
    {
      "cell_type": "markdown",
      "source": [
        "BPM"
      ],
      "metadata": {
        "id": "ykd3XfGL_4Hn"
      }
    },
    {
      "cell_type": "code",
      "source": [
        "# Extract the relevant columns\n",
        "data4 = df[['BPM', 'genre']]\n",
        "\n",
        "# Create a dictionary to store the BPM values for each genre\n",
        "bpm_data = {}\n",
        "\n",
        "# Iterate over each genre and collect the corresponding BPM values\n",
        "for genre in data4['genre'].unique():\n",
        "    bpm_data[genre] = data4[data4['genre'] == genre]['BPM']\n",
        "\n",
        "# Convert the dictionary to a list of values\n",
        "bpm_values = list(bpm_data.values())\n",
        "\n",
        "# Create a list of genre labels\n",
        "genre_labels = list(bpm_data.keys())\n",
        "\n",
        "# Plot the box plot\n",
        "plt.boxplot(bpm_values, labels=genre_labels)\n",
        "\n",
        "# Set the axis labels and title\n",
        "plt.xlabel('Music Genre')\n",
        "plt.ylabel('BPM')\n",
        "plt.title('Box Plot of BPM by Music Genre')\n",
        "\n",
        "# Rotate the x-axis labels\n",
        "plt.xticks(rotation=45)\n",
        "\n",
        "\n",
        "# Show the plot\n",
        "plt.show()"
      ],
      "metadata": {
        "colab": {
          "base_uri": "https://localhost:8080/",
          "height": 526
        },
        "id": "p0_myECD_5fi",
        "outputId": "b61ebf5e-0ebe-4536-aaa7-7f18fdb10dec"
      },
      "execution_count": null,
      "outputs": [
        {
          "output_type": "display_data",
          "data": {
            "text/plain": [
              "<Figure size 640x480 with 1 Axes>"
            ],
            "image/png": "[encoded data removed]"
          },
          "metadata": {}
        }
      ]
    },
    {
      "cell_type": "markdown",
      "source": [
        "Üleval on toodud mõned visualisatsioonid andmetest. Üldiselt nägime, et andmetes selgelt eristuvaid erinevusi ei ole – ei leidnud tunnust, mis kirjeldaks muusikažanreid teistest paremini, ning seetõttu kasutasime mudeli loomisel mitu tunnust korraga."
      ],
      "metadata": {
        "id": "pt7UAGZsx0Rs"
      }
    },
    {
      "cell_type": "code",
      "source": [
        "# Count the occurrences of each genre\n",
        "genre_counts = data['genre'].value_counts()\n",
        "\n",
        "# Print the genre counts\n",
        "print(genre_counts)"
      ],
      "metadata": {
        "colab": {
          "base_uri": "https://localhost:8080/"
        },
        "id": "YBqS_cJP8UAg",
        "outputId": "56b0b465-1eb2-4454-e451-590fc049f000"
      },
      "execution_count": null,
      "outputs": [
        {
          "output_type": "stream",
          "name": "stdout",
          "text": [
            "rock           504\n",
            "jazz           319\n",
            "raphiphop      300\n",
            "folkcountry    222\n",
            "alternative    143\n",
            "blues          120\n",
            "pop            116\n",
            "electronic     113\n",
            "funksoulrnb     47\n",
            "Name: genre, dtype: int64\n"
          ]
        }
      ]
    },
    {
      "cell_type": "markdown",
      "source": [
        "Ülevalt on näha, et  žanrite ridade arvus on väga suured erinevused."
      ],
      "metadata": {
        "id": "wsnwoCAV8XXB"
      }
    },
    {
      "cell_type": "markdown",
      "source": [
        "## MUDELI LOOMINE"
      ],
      "metadata": {
        "id": "0i7hmxqJm-tb"
      }
    },
    {
      "cell_type": "markdown",
      "source": [
        "Hetkel jätame skaleerimata ja kasutame random foresti mudelit. Iga mudeli juures kasutame mudeli headuse hindamiseks \"accuracy\"-t"
      ],
      "metadata": {
        "id": "zFCVtqCQnDJj"
      }
    },
    {
      "cell_type": "code",
      "source": [
        "X = data[['average_loudness', 'BPM', 'energy', 'beats_loudness', 'silence_rate_60dB',\n",
        "          'danceability', 'chords_changes_rate', 'melbands_spread', 'hpcp_entropy', 'barkbands_crest',\n",
        "          'bpm_histogram_first_peak_weight', 'zerocrossingrate', 'spectral_entropy']]\n",
        "y = data['genre']\n",
        "\n",
        "# Split the data into training and testing sets\n",
        "X_train, X_test, y_train, y_test = train_test_split(X, y, test_size=0.2, random_state=42)\n",
        "\n",
        "# Create a Random Forest classifier\n",
        "classifier = RandomForestClassifier()\n",
        "\n",
        "# Train the classifier\n",
        "classifier.fit(X_train, y_train)\n",
        "\n",
        "# Predict the genre of the test data\n",
        "y_pred = classifier.predict(X_test)\n",
        "\n",
        "# Evaluate the accuracy of the classifier\n",
        "accuracy = accuracy_score(y_test, y_pred)\n",
        "print('Accuracy:', accuracy)"
      ],
      "metadata": {
        "colab": {
          "base_uri": "https://localhost:8080/"
        },
        "id": "_eGadC6Y8l0P",
        "outputId": "6ecfd50e-1b66-48ff-a21d-b09e973b159e"
      },
      "execution_count": null,
      "outputs": [
        {
          "output_type": "stream",
          "name": "stdout",
          "text": [
            "Accuracy: 0.4854111405835544\n"
          ]
        }
      ]
    },
    {
      "cell_type": "markdown",
      "source": [
        "Skaleerime andmeid (undersampling) ja vaatame, kas tulemus paraneb"
      ],
      "metadata": {
        "id": "6Fyv3q-o885L"
      }
    },
    {
      "cell_type": "code",
      "source": [
        "genre_counts = data['genre'].value_counts()\n",
        "\n",
        "# Set the desired number of samples per genre\n",
        "desired_samples = genre_counts.min()\n",
        "\n",
        "# Perform balanced sampling\n",
        "balanced_data = pd.DataFrame()\n",
        "for genre in genre_counts.index:\n",
        "    genre_data = data[data['genre'] == genre].sample(n=desired_samples, random_state=42)\n",
        "    balanced_data = pd.concat([balanced_data, genre_data])\n",
        "\n",
        "# Separate the features and target variable\n",
        "y = balanced_data['genre']\n",
        "X = balanced_data[['average_loudness', 'BPM', 'energy', 'beats_loudness', 'silence_rate_60dB',\n",
        "          'danceability', 'chords_changes_rate', 'melbands_spread', 'hpcp_entropy', 'barkbands_crest',\n",
        "          'bpm_histogram_first_peak_weight', 'zerocrossingrate', 'spectral_entropy']]\n",
        "# Split the data into training and testing sets\n",
        "X_train, X_test, y_train, y_test = train_test_split(X, y, test_size=0.2, random_state=42)\n",
        "\n",
        "# Create a Random Forest classifier\n",
        "classifier = RandomForestClassifier()\n",
        "\n",
        "# Train the classifier\n",
        "classifier.fit(X_train, y_train)\n",
        "\n",
        "# Predict the genre of the test data\n",
        "y_pred = classifier.predict(X_test)\n",
        "\n",
        "# Evaluate the accuracy of the classifier\n",
        "accuracy = accuracy_score(y_test, y_pred)\n",
        "print('Accuracy:', accuracy)"
      ],
      "metadata": {
        "colab": {
          "base_uri": "https://localhost:8080/"
        },
        "id": "b9t9LdzC-kTy",
        "outputId": "92e2e960-1766-47e5-ec0b-fab74b2a41d1"
      },
      "execution_count": null,
      "outputs": [
        {
          "output_type": "stream",
          "name": "stdout",
          "text": [
            "Accuracy: 0.35294117647058826\n"
          ]
        }
      ]
    },
    {
      "cell_type": "markdown",
      "source": [
        "Tulemus läks halvemaks, teeme oversamplimist"
      ],
      "metadata": {
        "id": "3OXNM_NB_SU7"
      }
    },
    {
      "cell_type": "code",
      "source": [
        "from imblearn.over_sampling import SMOTE\n",
        "# Separate the features and target variable\n",
        "X = data[['average_loudness', 'BPM', 'energy', 'beats_loudness', 'silence_rate_60dB',\n",
        "          'danceability', 'chords_changes_rate', 'melbands_spread', 'hpcp_entropy', 'barkbands_crest',\n",
        "          'bpm_histogram_first_peak_weight', 'zerocrossingrate', 'spectral_entropy']]\n",
        "y = data['genre']\n",
        "\n",
        "# Apply SMOTE for oversampling\n",
        "smote = SMOTE(sampling_strategy='auto', random_state=42)\n",
        "X_resampled, y_resampled = smote.fit_resample(X, y)\n",
        "\n",
        "# Split the data into training and testing sets\n",
        "X_train, X_test, y_train, y_test = train_test_split(X_resampled, y_resampled, test_size=0.2, random_state=42)\n",
        "\n",
        "# Create a Random Forest classifier\n",
        "classifier = RandomForestClassifier()\n",
        "\n",
        "# Train the classifier\n",
        "classifier.fit(X_train, y_train)\n",
        "\n",
        "# Predict the genre of the test data\n",
        "y_pred = classifier.predict(X_test)\n",
        "\n",
        "# Evaluate the accuracy of the classifier\n",
        "accuracy = accuracy_score(y_test, y_pred)\n",
        "print('Accuracy:', accuracy)\n"
      ],
      "metadata": {
        "colab": {
          "base_uri": "https://localhost:8080/"
        },
        "id": "FdK2L1Da9gP9",
        "outputId": "da9b27ca-6c7c-4b2e-dcc6-65c7f1f9a2ad"
      },
      "execution_count": null,
      "outputs": [
        {
          "output_type": "stream",
          "name": "stdout",
          "text": [
            "Accuracy: 0.7929515418502202\n"
          ]
        }
      ]
    },
    {
      "cell_type": "markdown",
      "source": [
        "Tulemus on meie jaoks rahuldaval tasemel. Edasi proovime teisi tuntuid mudeleid"
      ],
      "metadata": {
        "id": "RYnqrEpBz5GD"
      }
    },
    {
      "cell_type": "markdown",
      "source": [
        "Proovime KNN-i"
      ],
      "metadata": {
        "id": "R9mXlUZZsw5E"
      }
    },
    {
      "cell_type": "code",
      "source": [
        "from sklearn.neighbors import KNeighborsClassifier\n",
        "\n",
        "X = data[['average_loudness', 'BPM', 'energy', 'beats_loudness', 'silence_rate_60dB',\n",
        "          'danceability', 'chords_changes_rate', 'melbands_spread', 'hpcp_entropy', 'barkbands_crest',\n",
        "          'bpm_histogram_first_peak_weight', 'zerocrossingrate', 'spectral_entropy']]\n",
        "y = data['genre']\n",
        "\n",
        "# Apply SMOTE for oversampling\n",
        "smote = SMOTE(sampling_strategy='auto', random_state=42)\n",
        "X_resampled, y_resampled = smote.fit_resample(X, y)\n",
        "\n",
        "# Split the data into training and testing sets\n",
        "X_train, X_test, y_train, y_test = train_test_split(X_resampled, y_resampled, test_size=0.2, random_state=42)\n",
        "\n",
        "# Create a KNN classifier\n",
        "classifier1 = KNeighborsClassifier()\n",
        "\n",
        "# Train the classifier\n",
        "classifier1.fit(X_train, y_train)\n",
        "\n",
        "# Predict the genre of the test data\n",
        "y_pred = classifier1.predict(X_test)\n",
        "\n",
        "# Evaluate the accuracy of the classifier\n",
        "accuracy = accuracy_score(y_test, y_pred)\n",
        "print('Accuracy:', accuracy)\n"
      ],
      "metadata": {
        "colab": {
          "base_uri": "https://localhost:8080/"
        },
        "id": "g_lTOxAWC2fV",
        "outputId": "c5d27b03-7a86-49b1-bacd-6cbf6f581471"
      },
      "execution_count": null,
      "outputs": [
        {
          "output_type": "stream",
          "name": "stdout",
          "text": [
            "Accuracy: 0.539647577092511\n"
          ]
        }
      ]
    },
    {
      "cell_type": "code",
      "source": [
        "import xgboost as xgb\n",
        "from sklearn.preprocessing import LabelEncoder\n",
        "\n",
        "X = data[['average_loudness', 'BPM', 'energy', 'beats_loudness', 'silence_rate_60dB',\n",
        "          'danceability', 'chords_changes_rate', 'melbands_spread', 'hpcp_entropy', 'barkbands_crest',\n",
        "          'bpm_histogram_first_peak_weight', 'zerocrossingrate', 'spectral_entropy']]\n",
        "y = data['genre']\n",
        "\n",
        "# Apply SMOTE for oversampling\n",
        "smote = SMOTE(sampling_strategy='auto', random_state=42)\n",
        "X_resampled, y_resampled = smote.fit_resample(X, y)\n",
        "\n",
        "# Label encode the target variable\n",
        "label_encoder = LabelEncoder()\n",
        "y_encoded = label_encoder.fit_transform(y_resampled)\n",
        "\n",
        "# Split the data into training and testing sets\n",
        "X_train, X_test, y_train, y_test = train_test_split(X_resampled, y_encoded, test_size=0.2, random_state=42)\n",
        "\n",
        "\n",
        "\n",
        "# Convert data into DMatrix format for XGBoost\n",
        "dtrain = xgb.DMatrix(X_train, label=y_train)\n",
        "dtest = xgb.DMatrix(X_test, label=y_test)\n",
        "\n",
        "# Set the parameters for the GBM\n",
        "params = {\n",
        "    'objective': 'multi:softmax',\n",
        "    'num_class': len(data['genre'].unique()),  # Number of classes\n",
        "    'eval_metric': 'merror'\n",
        "}\n",
        "\n",
        "# Train the GBM model\n",
        "classifier2 = xgb.train(params, dtrain)\n",
        "\n",
        "# Predict the genre of the test data\n",
        "y_pred = classifier2.predict(dtest)\n",
        "\n",
        "# Convert the predicted labels to integers\n",
        "y_pred = y_pred.astype(int)\n",
        "\n",
        "# Evaluate the accuracy of the classifier\n",
        "accuracy = accuracy_score(y_test, y_pred)\n",
        "print('Accuracy:', accuracy)\n"
      ],
      "metadata": {
        "colab": {
          "base_uri": "https://localhost:8080/"
        },
        "id": "2uKlLyjzFRpg",
        "outputId": "74778603-9667-46f2-a48f-bb86dc3d19a4"
      },
      "execution_count": null,
      "outputs": [
        {
          "output_type": "stream",
          "name": "stdout",
          "text": [
            "Accuracy: 0.6497797356828194\n"
          ]
        }
      ]
    },
    {
      "cell_type": "markdown",
      "source": [
        "Leidsime, et Random Forest Classifier oli kõige täpsem"
      ],
      "metadata": {
        "id": "KFuM-N9Q0dk0"
      }
    },
    {
      "cell_type": "markdown",
      "source": [
        "## \"Päris elus\" testimine, DEMO"
      ],
      "metadata": {
        "id": "Mw1TxJU7noFN"
      }
    },
    {
      "cell_type": "markdown",
      "source": [
        "Selleks, et testida, tõmbasime 5 lugu youtubest alla, lõikasin nad 10 sekundi pikkuseks ning tegin uue tabeli muusika_testimine. Kui lugusid alla laadida tuleb kindlasti laadida 128k versioon, sest see mõjutab tulemusi."
      ],
      "metadata": {
        "id": "LNFc9YI709N6"
      }
    },
    {
      "cell_type": "code",
      "source": [
        "data_test = pd.read_csv('muusika_testimine.csv')\n",
        "data_test.head(5)"
      ],
      "metadata": {
        "colab": {
          "base_uri": "https://localhost:8080/",
          "height": 322
        },
        "id": "s_7byNYB1Atq",
        "outputId": "64125e8e-a4aa-4e0a-9c5a-fa4997c74abd"
      },
      "execution_count": null,
      "outputs": [
        {
          "output_type": "execute_result",
          "data": {
            "text/plain": [
              "                            song_name  average_loudness         BPM    energy  \\\n",
              "0                           AC_DC-TNT          0.972855  126.535721  0.013236   \n",
              "1  Britney_Spears-Oops_I_did_it_again          0.984057   96.918510  0.041898   \n",
              "2           eminem-Drug_Ballad_luhike          0.987267  104.787598  0.040447   \n",
              "3  John_Coltraine-My_Favourite_Things          0.977362   84.839928  0.035817   \n",
              "4                       War-Low_Rider          0.978087  139.025085  0.025300   \n",
              "\n",
              "       genre  beats_loudness  silence_rate_60dB  danceability  \\\n",
              "0  testimine        0.023254           0.138158      1.498110   \n",
              "1  testimine        0.054016           0.004274      0.000000   \n",
              "2  testimine        0.089545           0.025000      5.639791   \n",
              "3  testimine        0.044837           0.004505      1.271835   \n",
              "4  testimine        0.035378           0.052000      1.502593   \n",
              "\n",
              "   chords_changes_rate  melbands_spread  hpcp_entropy  barkbands_crest  \\\n",
              "0             0.113537        38.512177      2.242369         9.066400   \n",
              "1             0.042373        24.757929      1.721725        11.269362   \n",
              "2             0.072398        22.276974      2.241017        14.272150   \n",
              "3             0.022422        14.030258      1.555837        11.368202   \n",
              "4             0.107570        30.931055      2.391810         8.821373   \n",
              "\n",
              "   dissonance  bpm_histogram_first_peak_weight  zerocrossingrate  \\\n",
              "0    0.473691                         0.619048          0.070240   \n",
              "1    0.445749                         0.428571          0.086426   \n",
              "2    0.451732                         0.437500          0.061091   \n",
              "3    0.410251                         0.769231          0.036125   \n",
              "4    0.468090                         0.560000          0.073674   \n",
              "\n",
              "   spectral_entropy  \n",
              "0          7.492852  \n",
              "1          7.747435  \n",
              "2          7.485629  \n",
              "3          7.000568  \n",
              "4          7.718951  "
            ],
            "text/html": [
              "\n",
              "  <div id=\"df-5c9079dc-d30a-4f60-874e-3962d89b53fd\">\n",
              "    <div class=\"colab-df-container\">\n",
              "      <div>\n",
              "<style scoped>\n",
              "    .dataframe tbody tr th:only-of-type {\n",
              "        vertical-align: middle;\n",
              "    }\n",
              "\n",
              "    .dataframe tbody tr th {\n",
              "        vertical-align: top;\n",
              "    }\n",
              "\n",
              "    .dataframe thead th {\n",
              "        text-align: right;\n",
              "    }\n",
              "</style>\n",
              "<table border=\"1\" class=\"dataframe\">\n",
              "  <thead>\n",
              "    <tr style=\"text-align: right;\">\n",
              "      <th></th>\n",
              "      <th>song_name</th>\n",
              "      <th>average_loudness</th>\n",
              "      <th>BPM</th>\n",
              "      <th>energy</th>\n",
              "      <th>genre</th>\n",
              "      <th>beats_loudness</th>\n",
              "      <th>silence_rate_60dB</th>\n",
              "      <th>danceability</th>\n",
              "      <th>chords_changes_rate</th>\n",
              "      <th>melbands_spread</th>\n",
              "      <th>hpcp_entropy</th>\n",
              "      <th>barkbands_crest</th>\n",
              "      <th>dissonance</th>\n",
              "      <th>bpm_histogram_first_peak_weight</th>\n",
              "      <th>zerocrossingrate</th>\n",
              "      <th>spectral_entropy</th>\n",
              "    </tr>\n",
              "  </thead>\n",
              "  <tbody>\n",
              "    <tr>\n",
              "      <th>0</th>\n",
              "      <td>AC_DC-TNT</td>\n",
              "      <td>0.972855</td>\n",
              "      <td>126.535721</td>\n",
              "      <td>0.013236</td>\n",
              "      <td>testimine</td>\n",
              "      <td>0.023254</td>\n",
              "      <td>0.138158</td>\n",
              "      <td>1.498110</td>\n",
              "      <td>0.113537</td>\n",
              "      <td>38.512177</td>\n",
              "      <td>2.242369</td>\n",
              "      <td>9.066400</td>\n",
              "      <td>0.473691</td>\n",
              "      <td>0.619048</td>\n",
              "      <td>0.070240</td>\n",
              "      <td>7.492852</td>\n",
              "    </tr>\n",
              "    <tr>\n",
              "      <th>1</th>\n",
              "      <td>Britney_Spears-Oops_I_did_it_again</td>\n",
              "      <td>0.984057</td>\n",
              "      <td>96.918510</td>\n",
              "      <td>0.041898</td>\n",
              "      <td>testimine</td>\n",
              "      <td>0.054016</td>\n",
              "      <td>0.004274</td>\n",
              "      <td>0.000000</td>\n",
              "      <td>0.042373</td>\n",
              "      <td>24.757929</td>\n",
              "      <td>1.721725</td>\n",
              "      <td>11.269362</td>\n",
              "      <td>0.445749</td>\n",
              "      <td>0.428571</td>\n",
              "      <td>0.086426</td>\n",
              "      <td>7.747435</td>\n",
              "    </tr>\n",
              "    <tr>\n",
              "      <th>2</th>\n",
              "      <td>eminem-Drug_Ballad_luhike</td>\n",
              "      <td>0.987267</td>\n",
              "      <td>104.787598</td>\n",
              "      <td>0.040447</td>\n",
              "      <td>testimine</td>\n",
              "      <td>0.089545</td>\n",
              "      <td>0.025000</td>\n",
              "      <td>5.639791</td>\n",
              "      <td>0.072398</td>\n",
              "      <td>22.276974</td>\n",
              "      <td>2.241017</td>\n",
              "      <td>14.272150</td>\n",
              "      <td>0.451732</td>\n",
              "      <td>0.437500</td>\n",
              "      <td>0.061091</td>\n",
              "      <td>7.485629</td>\n",
              "    </tr>\n",
              "    <tr>\n",
              "      <th>3</th>\n",
              "      <td>John_Coltraine-My_Favourite_Things</td>\n",
              "      <td>0.977362</td>\n",
              "      <td>84.839928</td>\n",
              "      <td>0.035817</td>\n",
              "      <td>testimine</td>\n",
              "      <td>0.044837</td>\n",
              "      <td>0.004505</td>\n",
              "      <td>1.271835</td>\n",
              "      <td>0.022422</td>\n",
              "      <td>14.030258</td>\n",
              "      <td>1.555837</td>\n",
              "      <td>11.368202</td>\n",
              "      <td>0.410251</td>\n",
              "      <td>0.769231</td>\n",
              "      <td>0.036125</td>\n",
              "      <td>7.000568</td>\n",
              "    </tr>\n",
              "    <tr>\n",
              "      <th>4</th>\n",
              "      <td>War-Low_Rider</td>\n",
              "      <td>0.978087</td>\n",
              "      <td>139.025085</td>\n",
              "      <td>0.025300</td>\n",
              "      <td>testimine</td>\n",
              "      <td>0.035378</td>\n",
              "      <td>0.052000</td>\n",
              "      <td>1.502593</td>\n",
              "      <td>0.107570</td>\n",
              "      <td>30.931055</td>\n",
              "      <td>2.391810</td>\n",
              "      <td>8.821373</td>\n",
              "      <td>0.468090</td>\n",
              "      <td>0.560000</td>\n",
              "      <td>0.073674</td>\n",
              "      <td>7.718951</td>\n",
              "    </tr>\n",
              "  </tbody>\n",
              "</table>\n",
              "</div>\n",
              "      <button class=\"colab-df-convert\" onclick=\"convertToInteractive('df-5c9079dc-d30a-4f60-874e-3962d89b53fd')\"\n",
              "              title=\"Convert this dataframe to an interactive table.\"\n",
              "              style=\"display:none;\">\n",
              "        \n",
              "  <svg xmlns=\"http://www.w3.org/2000/svg\" height=\"24px\"viewBox=\"0 0 24 24\"\n",
              "       width=\"24px\">\n",
              "    <path d=\"M0 0h24v24H0V0z\" fill=\"none\"/>\n",
              "    <path d=\"M18.56 5.44l.94 2.06.94-2.06 2.06-.94-2.06-.94-.94-2.06-.94 2.06-2.06.94zm-11 1L8.5 8.5l.94-2.06 2.06-.94-2.06-.94L8.5 2.5l-.94 2.06-2.06.94zm10 10l.94 2.06.94-2.06 2.06-.94-2.06-.94-.94-2.06-.94 2.06-2.06.94z\"/><path d=\"M17.41 7.96l-1.37-1.37c-.4-.4-.92-.59-1.43-.59-.52 0-1.04.2-1.43.59L10.3 9.45l-7.72 7.72c-.78.78-.78 2.05 0 2.83L4 21.41c.39.39.9.59 1.41.59.51 0 1.02-.2 1.41-.59l7.78-7.78 2.81-2.81c.8-.78.8-2.07 0-2.86zM5.41 20L4 18.59l7.72-7.72 1.47 1.35L5.41 20z\"/>\n",
              "  </svg>\n",
              "      </button>\n",
              "      \n",
              "  <style>\n",
              "    .colab-df-container {\n",
              "      display:flex;\n",
              "      flex-wrap:wrap;\n",
              "      gap: 12px;\n",
              "    }\n",
              "\n",
              "    .colab-df-convert {\n",
              "      background-color: #E8F0FE;\n",
              "      border: none;\n",
              "      border-radius: 50%;\n",
              "      cursor: pointer;\n",
              "      display: none;\n",
              "      fill: #1967D2;\n",
              "      height: 32px;\n",
              "      padding: 0 0 0 0;\n",
              "      width: 32px;\n",
              "    }\n",
              "\n",
              "    .colab-df-convert:hover {\n",
              "      background-color: #E2EBFA;\n",
              "      box-shadow: 0px 1px 2px rgba(60, 64, 67, 0.3), 0px 1px 3px 1px rgba(60, 64, 67, 0.15);\n",
              "      fill: #174EA6;\n",
              "    }\n",
              "\n",
              "    [theme=dark] .colab-df-convert {\n",
              "      background-color: #3B4455;\n",
              "      fill: #D2E3FC;\n",
              "    }\n",
              "\n",
              "    [theme=dark] .colab-df-convert:hover {\n",
              "      background-color: #434B5C;\n",
              "      box-shadow: 0px 1px 3px 1px rgba(0, 0, 0, 0.15);\n",
              "      filter: drop-shadow(0px 1px 2px rgba(0, 0, 0, 0.3));\n",
              "      fill: #FFFFFF;\n",
              "    }\n",
              "  </style>\n",
              "\n",
              "      <script>\n",
              "        const buttonEl =\n",
              "          document.querySelector('#df-5c9079dc-d30a-4f60-874e-3962d89b53fd button.colab-df-convert');\n",
              "        buttonEl.style.display =\n",
              "          google.colab.kernel.accessAllowed ? 'block' : 'none';\n",
              "\n",
              "        async function convertToInteractive(key) {\n",
              "          const element = document.querySelector('#df-5c9079dc-d30a-4f60-874e-3962d89b53fd');\n",
              "          const dataTable =\n",
              "            await google.colab.kernel.invokeFunction('convertToInteractive',\n",
              "                                                     [key], {});\n",
              "          if (!dataTable) return;\n",
              "\n",
              "          const docLinkHtml = 'Like what you see? Visit the ' +\n",
              "            '<a target=\"_blank\" href=https://colab.research.google.com/notebooks/data_table.ipynb>data table notebook</a>'\n",
              "            + ' to learn more about interactive tables.';\n",
              "          element.innerHTML = '';\n",
              "          dataTable['output_type'] = 'display_data';\n",
              "          await google.colab.output.renderOutput(dataTable, element);\n",
              "          const docLink = document.createElement('div');\n",
              "          docLink.innerHTML = docLinkHtml;\n",
              "          element.appendChild(docLink);\n",
              "        }\n",
              "      </script>\n",
              "    </div>\n",
              "  </div>\n",
              "  "
            ]
          },
          "metadata": {},
          "execution_count": 13
        }
      ]
    },
    {
      "cell_type": "code",
      "source": [
        " import numpy as np\n",
        "\n",
        "\n",
        "# into [] write the number of row you want to predict\n",
        "new_row = data_test.iloc[0]\n",
        "\n",
        "# Extract the desired features from the row\n",
        "new_row_processed = new_row[['average_loudness', 'BPM', 'energy', 'beats_loudness', 'silence_rate_60dB',\n",
        "          'danceability', 'chords_changes_rate', 'melbands_spread', 'hpcp_entropy', 'barkbands_crest',\n",
        "          'bpm_histogram_first_peak_weight', 'zerocrossingrate', 'spectral_entropy']]\n",
        "\n",
        "# Reshape the new row to have shape (1, number_of_features)\n",
        "new_row_processed = np.array(new_row_processed).reshape(1, -1)\n",
        "\n",
        "# Predict the genre for the new row\n",
        "predicted_genre = classifier.predict(new_row_processed)\n",
        "\n",
        "print('Predicted Genre:', predicted_genre)\n"
      ],
      "metadata": {
        "colab": {
          "base_uri": "https://localhost:8080/"
        },
        "id": "15RhatpW1lSV",
        "outputId": "84d84321-663a-42d8-f0cd-2c44cc224db0"
      },
      "execution_count": null,
      "outputs": [
        {
          "output_type": "stream",
          "name": "stdout",
          "text": [
            "Predicted Genre: ['blues']\n"
          ]
        },
        {
          "output_type": "stream",
          "name": "stderr",
          "text": [
            "/usr/local/lib/python3.10/dist-packages/sklearn/base.py:439: UserWarning: X does not have valid feature names, but RandomForestClassifier was fitted with feature names\n",
            "  warnings.warn(\n"
          ]
        }
      ]
    },
    {
      "cell_type": "markdown",
      "source": [
        "## KOKKUVÕTE, EDASISED TEGEVUSED"
      ],
      "metadata": {
        "id": "lump4LpinyKb"
      }
    },
    {
      "cell_type": "markdown",
      "source": [
        "\n",
        "Random forest classifier andis kõige parema tulemuse ja siis kui kasutatada oversamplimist, et igat klassi oleks sama palju. Täpsuse saime 80% lähedale, mis on hea tulemus ja hetkel meie töö mahtu arvestades rahuldav.\n",
        "\n",
        "Youtubest alla laetud lugude peal mudel nii hästi ei töödanud. Tõenäoliselt saaks täpsust parandada, kui veel lisada tunnuseid mudeli loomisel. Selleks tuleks muuta scripti, mis tabeli koostab. Praegu tuleb tunnuste juurde lisamiseks teha käsitööd liiga palju(kindlasti on võimalus, kuidas antud formaat \"lamedaks\" teha, aga hetkel ei suutnud seda välja mõelda)\n",
        "\n",
        "Teine võimlus mudelit parandada oleks kasutada mudeli treenimiseks tuntumaid lugusid, praegused lood on sellised, mis ei ole kunagi maailmas läbi löönud.\n",
        "\n",
        "Edasi tuleks muuta transform skripti, et kogu andmestik json failist kätte saada. Samuti tuleks luua programm, et erinevate rakenduste vahel ei peaks faile tõstma ning kogu voog töötaks automaatselt"
      ],
      "metadata": {
        "id": "_RR1oqDT_Nma"
      }
    }
  ]
}